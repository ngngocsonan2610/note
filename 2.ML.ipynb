{
 "cells": [
  {
   "cell_type": "markdown",
   "metadata": {
    "colab_type": "text",
    "id": "JFsPZ1KR5uQm"
   },
   "source": [
    "\n",
    "\n",
    "https://mlcourse.ai/\n",
    "\n",
    "https://www.kaggle.com/kashnitsky/topic-10-gradient-boosting"
   ]
  },
  {
   "cell_type": "markdown",
   "metadata": {
    "colab_type": "text",
    "id": "NvAfZ8ra9L8a"
   },
   "source": [
    "<img src = \"https://miro.medium.com/max/564/1*I0HCVsIEVmUUH0w78ntmTA.jpeg\" width=300 height=600>\n",
    "\n",
    "\n",
    "Comparision \n",
    "- [1- compare các model ML](https://towardsdatascience.com/comparative-study-on-classic-machine-learning-algorithms-24f9ff6ab222)\n",
    "- [2](https://elitedatascience.com/machine-learning-algorithms)\n",
    "\n"
   ]
  },
  {
   "cell_type": "markdown",
   "metadata": {
    "colab_type": "text",
    "id": "Ev3j7AIV5DcU"
   },
   "source": [
    "#[ Review Math](https://colab.research.google.com/drive/1K_7S4jYNOFdZuE6uzPPhDrKXMUzpJHZR?authuser=1)\n"
   ]
  },
  {
   "cell_type": "markdown",
   "metadata": {
    "colab_type": "text",
    "id": "8FIjZqKbt8P8"
   },
   "source": [
    "# 1.Regression Algorithms"
   ]
  },
  {
   "cell_type": "markdown",
   "metadata": {
    "colab_type": "text",
    "id": "dpc1c9ZsP2i6"
   },
   "source": [
    "## Linear Regression\n"
   ]
  },
  {
   "cell_type": "markdown",
   "metadata": {
    "colab_type": "text",
    "id": "qNc4fwyjgnCC"
   },
   "source": [
    "Lost function: MSE\n",
    "Giải đạo hàm: \n",
    "![alt text](https://cdn.mathpix.com/snip/images/FK2Cy8U9_QURngdhSj25RQTfGExgynPNUPK0pWZTz08.original.fullsize.png)\n",
    "![alt text](https://cdn.mathpix.com/snip/images/C9R4s0LujO1M6IRNd6SfTkvsrkVTPzcy7J2-PUeuE1s.original.fullsize.png)"
   ]
  },
  {
   "cell_type": "markdown",
   "metadata": {
    "colab_type": "text",
    "id": "lHEbcIoshU4X"
   },
   "source": [
    "**Discuss & Code**\n",
    "**Hạn chế:**\n",
    "- Linear Regression là nó rất nhạy cảm với nhiễu (sensitive to noise)\n",
    "- Hạn chế thứ 2 là nó không biểu diễn được các mô hình phcứ tạp. Chúng ta biết rằng LR vẫn có thể áp dụng khi relationship giữa input và outcome là không tuyến tính, nhưng rất khó để tìm được các đặc trựng (các distribution) của từng điểm $x$\n",
    "- Trong trường hợp ma trận $A=X X^{T}$ không khả nghich:  Ta biến đổi $A=X X^{T}+\\lambda I$ với $\\lambda$ là 1 số dương rất nhỏ và ma trận đơn vị $I$. Giải nghiệm ta được,  $\\mathbf{w}=\\left(\\mathbf{X X}^{T}+\\lambda \\mathbf{I}\\right)^{-1} \\mathbf{X} \\mathbf{y}$  - còn gọi là **Ridge regression**: giúp phương trình đạo hàm có nghiệm duy nhất và tránh overfittting.\n",
    "- Không thể giải phương trình đạo hàm: Gradient descent\n",
    "\n",
    "\n",
    "\n",
    "\n",
    "\n",
    "\n"
   ]
  },
  {
   "cell_type": "code",
   "execution_count": null,
   "metadata": {
    "colab": {
     "base_uri": "https://localhost:8080/",
     "height": 621
    },
    "colab_type": "code",
    "executionInfo": {
     "elapsed": 743,
     "status": "ok",
     "timestamp": 1566111486753,
     "user": {
      "displayName": "An Nguyễn",
      "photoUrl": "https://lh3.googleusercontent.com/a-/AAuE7mAmIzVzuSJNfcPFlxXSQsn53YMiTeTUYIBv6V-0=s64",
      "userId": "08833028508227386449"
     },
     "user_tz": -420
    },
    "id": "Pl5V2OcCP6gL",
    "outputId": "ec3619cf-4ffb-4679-91c0-fa1fdfa67b4b"
   },
   "outputs": [
    {
     "data": {
      "text/html": [
       "\n",
       "        <iframe\n",
       "            width=\"800\"\n",
       "            height=\"600\"\n",
       "            src=\"https://nbviewer.jupyter.org/github/tiepvupsu/tiepvupsu.github.io/blob/master/assets/LR/LR.ipynb?flush_cache=true\"\n",
       "            frameborder=\"0\"\n",
       "            allowfullscreen\n",
       "        ></iframe>\n",
       "        "
      ],
      "text/plain": [
       "<IPython.lib.display.IFrame at 0x7fcb964af518>"
      ]
     },
     "execution_count": 3,
     "metadata": {
      "tags": []
     },
     "output_type": "execute_result"
    }
   ],
   "source": [
    "    \n",
    "from IPython.display import IFrame\n",
    "\n",
    "IFrame(src='https://nbviewer.jupyter.org/github/tiepvupsu/tiepvupsu.github.io/blob/master/assets/LR/LR.ipynb?flush_cache=true',\n",
    "       width=800, height=600)"
   ]
  },
  {
   "cell_type": "markdown",
   "metadata": {
    "colab_type": "text",
    "id": "eX6sM5ldJu0-"
   },
   "source": [
    "## Perceptron Learning Algorithm (PLA)\n",
    "Bài toán Perceptron được phát biểu như sau: Cho hai class được gán nhãn, hãy tìm một đường phẳng sao cho toàn bộ các điểm thuộc class 1 nằm về 1 phía, toàn bộ các điểm thuộc class 2 nằm về phía còn lại của đường phẳng đó. Với giả định rằng tồn tại một đường phẳng như thế.\n",
    "\n",
    "Nếu tồn tại một đường phẳng phân chia hai class thì ta gọi hai class đó là linearly separable. Các thuật toán classification tạo ra các boundary là các đường phẳng được gọi chung là Linear Classifier.\n",
    "\n",
    "Source:\n",
    "[1](https://machinelearningcoban.com/2017/01/21/perceptron/),"
   ]
  },
  {
   "cell_type": "markdown",
   "metadata": {
    "colab_type": "text",
    "id": "mS20_sOtJ_L1"
   },
   "source": [
    ">**Thuật toán PLA**\n",
    "1. Chọn ngẫu nhiên một vector hệ số $w$ với các phần tử gần 0.\n",
    "2. Duyệt ngẫu nhiên qua từng điểm dữ liệu $x_i$:\n",
    "Nếu xi\n",
    "  *   Nễu $x_i$ được phân lớp đúng, tức $sgn(w^Tx_i)=y_i$, chúng ta không làm gì\n",
    "  *   Nếu $x_i$ bị misclassifed, cập nhật $w = w + y_i x_i$\n",
    "3. Kiểm tra xem có bao nhiêu điểm bị misclassifed. Nếu không còn điểm nào, dừng thuật toán. Nếu còn, quay lại bước 2."
   ]
  },
  {
   "cell_type": "markdown",
   "metadata": {
    "colab_type": "text",
    "id": "PnCFo1TyLj7l"
   },
   "source": [
    "**Discuss & code**\n",
    "**Hạn chế**:\n",
    "* PLA có thể cho vô số nghiệm khác nhau: rõ ràng rằng, nếu hai class là linearly separable thì có vô số đường thằng phân cách 2 class đó.\n",
    "* PLA đòi hỏi dữ liệu linearly separable: Hai class trong ví dụ dưới đây tương đối linearly separable. Mỗi class có 1 điểm coi như nhiễu nằm trong khu vực các điểm của class kia. PLA sẽ không làm việc trong trường hợp này vì luôn luôn có ít nhất 2 điểm bị misclassified.\n",
    "\n",
    "**Cải thiện**\n",
    "* Pocket Algorithm\n",
    "Một cách tự nhiên, nếu có một vài nhiễu, ta sẽ đi tìm một đường thẳng phân chia hai class sao cho có ít điểm bị misclassified nhất. Việc này có thể được thực hiện thông qua PLA với một chút thay đổi nhỏ như sau:\n",
    "  1. Giới hạn số lượng vòng lặp của PLA.\n",
    "  2. Mỗi lần cập nhật nghiệm $w$ mới, ta đếm xem có bao nhiêu điểm bị misclassified. Nếu là lần đầu tiên, giữ lại nghiệm này trong pocket (túi quần). Nếu không, so sánh số điểm misclassified này với số điểm misclassified của nghiệm trong pocket, nếu nhỏ hơn thì lôi nghiệm cũ ra, đặt nghiệm mới này vào.\n",
    "\n",
    "Thuật toán này giống với thuật toán tìm phần tử nhỏ nhất trong 1 mảng.\n",
    "\n",
    "**Code**\n",
    "```python\n",
    "def h(w, x):    \n",
    "    return np.sign(np.dot(w.T, x))\n",
    "```\n",
    "\n",
    "[1](https://nbviewer.jupyter.org/github/tiepvupsu/tiepvupsu.github.io/blob/master/assets/pla/perceptron.py)"
   ]
  },
  {
   "cell_type": "code",
   "execution_count": null,
   "metadata": {
    "colab": {},
    "colab_type": "code",
    "id": "u6Q6HL9RJt1t"
   },
   "outputs": [],
   "source": []
  },
  {
   "cell_type": "markdown",
   "metadata": {
    "colab_type": "text",
    "id": "bwn5AC4UPgJE"
   },
   "source": [
    "## Logistic Regression\n",
    "Loss function: maximum likelihood\n",
    "\n",
    "Lấy logarit tự nhiên (cơ số e) của likelihood function biến phép nhân thành phép cộng và để tránh việc số quá nhỏ. Sau đó lấy ngược dấu để được một hàm và coi nó là hàm mất mát. Lúc này bài toán tìm giá trị lớn nhất (maximum likelihood) trở thành bài toán tìm giá trị nhỏ nhất của hàm mất mát (hàm này còn được gọi là negative log likelihood):\n",
    "\n",
    "\n",
    "$$\n",
    "J\\left(\\mathbf{w} ; \\mathbf{x}_{i}, y_{i}\\right)=-\\left(y_{i} \\log z_{i}+\\left(1-y_{i}\\right) \\log \\left(1-z_{i}\\right)\\right)\\\\\n",
    "\\frac{\\partial J\\left(\\mathbf{w} ; \\mathbf{x}_{i}, y_{i}\\right)}{\\partial \\mathbf{w}}=\\left(z_{i}-y_{i}\\right) \\mathbf{x}_{i}\n",
    "$$\n",
    "\n",
    "\n",
    "Source: [1](https://machinelearningcoban.com/2017/01/27/logisticregression/)"
   ]
  },
  {
   "cell_type": "markdown",
   "metadata": {
    "colab_type": "text",
    "id": "inC4c2QlQAq_"
   },
   "source": [
    "**Discuss & code**\n",
    "\n",
    "- Một điểm cộng cho Logistic Regression so với PLA là nó không cần có giả thiết dữ liệu hai class là linearly separable. Tuy nhiên, boundary tìm được vẫn có dạng tuyến tính. Vậy nên mô hình này chỉ phù hợp với loại dữ liệu mà hai class là gần với linearly separable. \n",
    "- Một kiểu dữ liệu mà Logistic Regression không làm việc được là dữ liệu mà một class chứa các điểm nằm trong 1 vòng tròn, class kia chứa các điểm bên ngoài đường tròn đó. Kiểu dữ liệu này được gọi là phi tuyến (non-linear). Sau một vài bài nữa, tôi sẽ giới thiệu với các bạn các mô hình khác phù hợp hơn với loại dữ liệu này hơn.\n",
    "- Một hạn chế nữa của Logistic Regression là nó yêu cầu các điểm dữ liệu được tạo ra một cách độc lập với nhau. Trên thực tế, các điểm dữ liệu có thể bị ảnh hưởng bởi nhau. Ví dụ: có một nhóm ôn tập với nhau trong 4 giờ, cả nhóm đều thi đỗ (giả sử các bạn này học rất tập trung), nhưng có một sinh viên học một mình cũng trong 4 giờ thì xác suất thi đỗ thấp hơn. Mặc dù vậy, để cho đơn giản, khi xây dựng mô hình, người ta vẫn thường giả sử các điểm dữ liệu là độc lập với nhau.\n",
    "\n",
    "\n",
    "**Code**\n",
    "```python\n",
    "def sigmoid(s):\n",
    "    return 1/(1 + np.exp(-s))\n",
    "```"
   ]
  },
  {
   "cell_type": "code",
   "execution_count": null,
   "metadata": {
    "colab": {},
    "colab_type": "code",
    "id": "c_ZlU2QxPkZe"
   },
   "outputs": [],
   "source": []
  },
  {
   "cell_type": "markdown",
   "metadata": {
    "colab_type": "text",
    "id": "IDHLmr9DPmak"
   },
   "source": [
    "## Softmax Regression\n",
    "Loss function: xây dựng bởi entropy\n",
    "$$J(\\mathbf{W} ; \\mathbf{X}, \\mathbf{Y})=-\\sum_{i=1}^{N} \\sum_{j=1}^{C} y_{j i} \\log \\left(a_{j i}\\right)=-\\sum_{i=1}^{N} \\sum_{j=1}^{C} y_{j i} \\log \\left(\\frac{\\exp \\left(\\mathbf{w}_{j}^{T} \\mathbf{x}_{i}\\right)}{\\sum_{k=1}^{C} \\exp \\left(\\mathbf{w}_{k}^{T} \\mathbf{x}_{i}\\right)}\\right)\\\\\n",
    "\\frac{\\partial J(\\mathbf{W})}{\\partial \\mathbf{W}}=\\sum_{i=1}^{N} \\mathbf{x}_{i} \\mathbf{e}_{i}^{T}=\\mathbf{X} \\mathbf{E}^{T}\\\\\n",
    "where,\\\\\n",
    "\\mathbf{E}=\\mathbf{A}-\\mathbf{Y}\\\\\n",
    "a_{i}=\\frac{\\exp \\left(z_{i}\\right)}{\\sum_{j=1}^{C} \\exp \\left(z_{j}\\right)}, \\quad \\forall i=1,2, \\ldots, C\n",
    "$$\n",
    "\n",
    "Khi $C=2$, Softmax Regression và Logistic Regression là giống nhau\n",
    "\n",
    "Source: \n",
    "[1](https://machinelearningcoban.com/2017/02/17/softmax/),"
   ]
  },
  {
   "cell_type": "markdown",
   "metadata": {
    "colab_type": "text",
    "id": "EaWaipRwWWcF"
   },
   "source": [
    "**Code**\n",
    "```python\n",
    "import numpy as np \n",
    "def softmax(Z):\n",
    "    \"\"\"\n",
    "    Compute softmax values for each sets of scores in V,   each column of V is a set of score.    \n",
    "    \"\"\"\n",
    "    e_Z = np.exp(Z)\n",
    "    A = e_Z / e_Z.sum(axis = 0)\n",
    "    return A\n",
    "\n",
    "def softmax_stable(Z):\n",
    "    \"\"\"\n",
    "    Compute softmax values for each sets of scores in Z.\n",
    "    each column of Z is a set of score.    \n",
    "    \"\"\"\n",
    "    e_Z = np.exp(Z - np.max(Z, axis = 0, keepdims = True))\n",
    "    A = e_Z / e_Z.sum(axis = 0)\n",
    "    return A\n",
    " \n",
    "  \n",
    "```"
   ]
  },
  {
   "cell_type": "markdown",
   "metadata": {
    "colab_type": "text",
    "id": "4Kz3zCJNjApN"
   },
   "source": [
    "## SVM\n",
    "Support vector machine\n",
    "* Với bài toán binary classification mà 2 classes là linearly separable, có vô số các siêu mặt phẳng giúp phân biệt hai classes, tức mặt phân cách. Với mỗi mặt phân cách, ta có một classifier. Khoảng cách gần nhất từ 1 điểm dữ liệu tới mặt phân cách ấy được gọi là margin của classifier đó.\n",
    "* Việc này có thể được tổng quát lên không gian nhiều chiều: Khoảng cách từ một điểm (vector) có toạ độ $\\mathbf{x_0}$ tới siêu mặt phẳng (hyperplane) có phương trình $\\mathbf{w}^{T} \\mathbf{x}+b=0$ được xác định bởi: \n",
    "$$\\frac{\\left|\\mathbf{w}^{T} \\mathbf{x}_{0}+b\\right|}{\\|\\mathbf{w}\\|_{2}}$$\n",
    "    với $\\|\\mathbf{w}\\|_{2}=\\sqrt{\\sum_{i=1}^{d} w_{i}^{2}}$ , d là số chiều không gian\n",
    "* Support Vector Machine là bài toán đi tìm mặt phân cách sao cho margin tìm được là lớn nhất, đồng nghĩa với việc các điểm dữ liệu an toàn nhất so với mặt phân cách.\n",
    "* Bài toán tối ưu trong SVM là một bài toán lồi với hàm mục tiêu là stricly convex, nghiệm của bài toán này là duy nhất. Hơn nữa, bài toán tối ưu đó là một Quadratic Programming (QP).\n",
    "* Mặc dù có thể trực tiếp giải SVM qua bài toán tối ưu gốc này, thông thường người ta thường giải bài toán đối ngẫu (strong duality) . Bài toán đối ngẫu cũng là một QP nhưng nghiệm là sparse nên có những phương pháp giải hiệu quả hơn.\n",
    "\n",
    "Một số sự tương tự giữa SVM và NN\n",
    "![alt text](https://cdn.mathpix.com/snip/images/XFeNXnSwVrber9Q6PWSnjm7nb8WLC8TxkavH6nCKpQs.original.fullsize.png)\n",
    "\n",
    "\n",
    "\n",
    "\n",
    "\n",
    "Source\n",
    "[1](https://machinelearningcoban.com/2017/04/09/smv/)"
   ]
  },
  {
   "cell_type": "markdown",
   "metadata": {
    "colab_type": "text",
    "id": "RhSsF_0teLnU"
   },
   "source": [
    "**[Soft Margin SVM](https://machinelearningcoban.com/2017/04/13/softmarginsmv/#-tom-tat-va-thao-luan)**\n",
    "* SVM thuần (Hard Margin SVM) hoạt động không hiệu quả khi có nhiễu ở gần biên hoặc thậm chí khi dữ liệu giữa hai lớp gần linearly separable. Soft Margin SVM có thể giúp khắc phục điểm này.\n",
    "* Trong Soft Margin SVM, chúng ta chấp nhận lỗi xảy ra ở một vài điểm dữ liệu. Lỗi này được xác định bằng khoảng cách từ điểm đó tới đường biên tương ứng. Bài toán tối ưu sẽ tối thiểu lỗi này bằng cách sử dụng thêm các biến được gọi là slack varaibles.\n",
    "\n",
    "**Kernel SVM**\n",
    "* Nếu dữ liệu của hai lớp là không phân biệt tuyến tính (nonlinearly separable), chúng ta có thể tìm cách biến đổi dữ liệu sang một không gian mới sao cho trong không gian mới ấy, dữ liệu của hai lớp là phân biệt tuyến tính hoặc gần phân biệt tuyến tính.\n",
    "* Việc tính toán trực tiếp hàm $\\Phi()$ đôi khi phức tạp và tốn nhiều bộ nhớ. Thay vào đó, ta có thể sử dụng kernel trick. Trong cách tiếp cận này, ta chỉ cần tính tích vô hướng của hai vector bất kỳ trong không gian mới:$k(\\mathbf{x}, \\mathbf{z})=\\Phi(\\mathbf{x})^{T} \\Phi(\\mathbf{z})$\n",
    "\n",
    "**Multi-class SVM**\n",
    "* Giống như Softmax Regression, Multi-class SVM vẫn được coi là một bộ phân lớp tuyến tính vì đường phân chia giữa các class là các đường tuyến tính.\n",
    "* Kernel SVM cũng hoạt động khá tốt, nhưng việc tính toán ma trận kernel có thể tốn nhiều thời gian và bộ nhớ. Hơn nữa, việc mở rộng nó ra cho bài toán multi-class classification thường không hiệu quả bằng Multi-class SVM. \n",
    "* Một ưu điểm nữa của Multi-class SVM là nó có thể được tối ưu bằng (Stochastic) Gradient Descnet, tức là nó phù hợp với các bài toán large-scale. Việc boundary giữa các class là tuyến tính có thể được giải quyết bằng cách kết hợp nó với Deep Neurel Networks. \n",
    "\n",
    "\n"
   ]
  },
  {
   "cell_type": "markdown",
   "metadata": {
    "colab_type": "text",
    "id": "_j1ygYkdutFv"
   },
   "source": [
    "# 2.Instance-based (memory-based)"
   ]
  },
  {
   "cell_type": "markdown",
   "metadata": {
    "colab_type": "text",
    "id": "m1MEZV-Js4Yq"
   },
   "source": [
    "## K-nearest neighbors (KNN)\n",
    "Không học mà chỉ nhớ một cách máy móc toàn bộ dữ liệu. KKN tìm đầu ra bằng thông tin của K điểm gần nhất.\n",
    "\n",
    "Input dữ liệu đầu vào và số lượng  nhóm (K), với 1 điểm tính toán khoảng cách từ 1 điểm dữ liệu nhỏ nhất tới tất cả của dữ liệu đầu vào N điểm, và chọn ra K khoảng cách nhỏ nhất.\n",
    "\n",
    "**2 vấn đề chính:**\n",
    "- vấn đề về cách đo các điểm, thì các điểm thường được thể hiện bằng 1 vector đặc trưng, nên $l2-norm$ hay Euclid là cách đo khoảng cách thường được sử dụng\n",
    "- vấn đề về tính toán, khi tập huấn luyện lớn và vector đặc trựng lớn $X \\in R^{d*N}$. KNN sẽ phải tính toán khoảng cách từ 1 điểm dữ liệu nhỏ nhất tới tất cả N điểm, và chọn ra K khoảng cách nhỏ nhất (khối lượng tính toán lớn)\n",
    "\n",
    "Xem thêm trang 103-104/ML cơ bản, để biết các optimize cách tính: *1. Khoảng cách từ 1 điểm tới từng điểm trong 1 tập hợp, 2. khoảng cách giữa từng cặp điểm trong 2 tập hợp*. Đối với GPU, xem thêm [faiss](https://github.com/facebookresearch/faiss)\n",
    "\n",
    "Source: \n",
    "[1](https://machinelearningcoban.com/2017/01/08/knn/),"
   ]
  },
  {
   "cell_type": "markdown",
   "metadata": {
    "colab_type": "text",
    "id": "sg_5JeHX3pfX"
   },
   "source": [
    "** Discuss & Code**\n",
    "Ưu điểm của KNN:\n",
    " - Độ phức tạp tính toán của quá trình training là bằng 0.\n",
    " - Việc dự đoán kết quả của dữ liệu mới rất đơn giản.\n",
    " - Không cần giả sử gì về phân phối của các class.\n",
    "\n",
    "Nhược điểm của KNN\n",
    " - KNN rất nhạy cảm với nhiễu khi K nhỏ.\n",
    " - Như đã nói, KNN là một thuật toán mà mọi tính toán đều nằm ở khâu test. Trong đó việc tính khoảng cách tới từng điểm dữ liệu trong training set sẽ tốn rất nhiều thời gian, đặc biệt là với các cơ sở dữ liệu có số chiều lớn và có nhiều điểm dữ liệu. Với K càng lớn thì độ phức tạp cũng sẽ tăng lên. Ngoài ra, việc lưu toàn bộ dữ liệu trong bộ nhớ cũng ảnh hưởng tới hiệu năng của KNN.\n",
    "\n",
    "Tăng tốc cho KNN\n",
    "\n",
    "Ngoài việc tính toán khoảng cách từ một điểm test data đến tất cả các điểm trong traing set (Brute Force), có một số thuật toán khác giúp tăng tốc việc tìm kiếm này. Bạn đọc có thẻ tìm kiếm thêm với hai từ khóa: K-D Tree và Ball Tree. Tôi xin dành phần này cho độc giả tự tìm hiểu, và sẽ quay lại nếu có dịp. Chúng ta vẫn còn những thuật toán quan trọng hơn khác cần nhiều sự quan tâm hơn.\n",
    "\n",
    "**Code**\n",
    "\n",
    "Sử dụng thư viện `sklearn.neighbors.KNeighborsClassifier()`\n",
    "\n",
    "Mặc định `weights = 'uniform'`, nếu k = 10 thì vãi trò của mỗi điểm là như nhau để xét cho điểm hiện tại. \n",
    "- Để cải thiện chúng ta có thể đánh giá theo khoảng cách `weights = 'distance'` (càng lân cận càng tin tưởng)"
   ]
  },
  {
   "cell_type": "code",
   "execution_count": null,
   "metadata": {
    "colab": {
     "base_uri": "https://localhost:8080/",
     "height": 621
    },
    "colab_type": "code",
    "executionInfo": {
     "elapsed": 791,
     "status": "ok",
     "timestamp": 1566117349520,
     "user": {
      "displayName": "An Nguyễn",
      "photoUrl": "https://lh3.googleusercontent.com/a-/AAuE7mAmIzVzuSJNfcPFlxXSQsn53YMiTeTUYIBv6V-0=s64",
      "userId": "08833028508227386449"
     },
     "user_tz": -420
    },
    "id": "3TBaXY_Mt2nt",
    "outputId": "45102472-21b6-4921-e0f4-6bd676e500a2"
   },
   "outputs": [
    {
     "data": {
      "text/html": [
       "\n",
       "        <iframe\n",
       "            width=\"800\"\n",
       "            height=\"600\"\n",
       "            src=\"https://nbviewer.jupyter.org/github/tiepvupsu/ebookML_src/blob/master/src/knn/KNN.ipynb\"\n",
       "            frameborder=\"0\"\n",
       "            allowfullscreen\n",
       "        ></iframe>\n",
       "        "
      ],
      "text/plain": [
       "<IPython.lib.display.IFrame at 0x7fcb964af748>"
      ]
     },
     "execution_count": 4,
     "metadata": {
      "tags": []
     },
     "output_type": "execute_result"
    }
   ],
   "source": [
    "# KNN    \n",
    "from IPython.display import IFrame\n",
    "IFrame(src='https://nbviewer.jupyter.org/github/tiepvupsu/ebookML_src/blob/master/src/knn/KNN.ipynb',\n",
    "       width=800, height=600)"
   ]
  },
  {
   "cell_type": "markdown",
   "metadata": {
    "colab_type": "text",
    "id": "np0HDTN556XV"
   },
   "source": [
    "# 3.Clustering Algorithms\n",
    "\n",
    "\n",
    "*   K-means clustering\n",
    "*   List item\n",
    "\n"
   ]
  },
  {
   "cell_type": "markdown",
   "metadata": {
    "colab_type": "text",
    "id": "8OJRGMNB5xXU"
   },
   "source": [
    "## K-means clustering\n",
    "- unsupervised learning\n",
    "\n",
    "Input là dữ liệu đầu vào và số lượng nhóm ($K$), tìm nhóm cho từng điểm dữ liệu và có $K$ nhóm\n",
    "\n",
    "Source:\n",
    "[1](https://machinelearningcoban.com/2017/01/01/kmeans/),\n",
    "[2](https://machinelearningcoban.com/2017/01/04/kmeans2/)"
   ]
  },
  {
   "cell_type": "markdown",
   "metadata": {
    "colab_type": "text",
    "id": "iWXkmnIm8Cow"
   },
   "source": [
    "![alt text](https://cdn.mathpix.com/snip/images/PT2D3fLs4a_7od0kWH8kWo1EPA41yKK6GI-HV0OBQ_4.original.fullsize.png)\n",
    "\n",
    "**Tối ưu hàm mất mát**:\n",
    "- Cố định M, tìm Y: nghĩa là giả sử các centroid, hay tìm các label vector để hàm mất mát nhỏ nhất.\n",
    "- Cố định Y, tìm M: giả sử đã tìm được cluster cho từng điểm, hãy tìm centroid mới cho mỗi cluster đề hàm mất mát đạt giá trị nhỏ nhất\n",
    "\n",
    "\n",
    ">**Thuật toán k-means clustering**:\n",
    "- Input:Ma trận dữ liệu $X \\in R^{d*N}$\n",
    "- Output: ma trận centroid $M \\in R^{d*K}$ và ma trận label $Y \\in R^{N*K}$\n",
    ">\n",
    ">> 1.   Chọn K điểm bất kì làm trong training set là centroid ban đầu\n",
    "2.   Phân mỗi điểm dữ liệu vào cluster có centroid gần nó nhất\n",
    "3. Nếu việc phân nhóm dữ liệu vào từng cluster ở bước 2 không thay đổi so với vong lặp trước thì -> dừng thuật toán\n",
    "4. Cập nhật centroid cho từng cluster: bằng cách lấy trung bình cộng của tất cả các điểm dữ liệu đã được gán vào cluster đó sau bước 2\n",
    "5. Back -> step 2.\n",
    "\n"
   ]
  },
  {
   "cell_type": "markdown",
   "metadata": {
    "colab_type": "text",
    "id": "2hlSFmgkEy_p"
   },
   "source": [
    "**Discuss & code**\n",
    "Hạn chế\n",
    "*    Chúng ta cần biết số lượng cluster cần clustering\n",
    "*   Nghiệm cuối cùng phụ thuộc vào các centers được khởi tạo ban đầu\n",
    "*    Các cluster cần có só lượng điểm gần bằng nhau\n",
    "*    Các cluster cần có dạng hình tròn\n",
    "*    Khi một cluster nằm phía trong 1 cluster khác\n",
    "\n"
   ]
  },
  {
   "cell_type": "markdown",
   "metadata": {
    "colab_type": "text",
    "id": "kAKVxJ5V6Cjd"
   },
   "source": []
  },
  {
   "cell_type": "markdown",
   "metadata": {
    "colab_type": "text",
    "id": "W8gx540rhd0Q"
   },
   "source": [
    "# 4.Reduce Dimension\n",
    "\n"
   ]
  },
  {
   "cell_type": "markdown",
   "metadata": {
    "colab_type": "text",
    "id": "ZF025S_Lgd07"
   },
   "source": [
    "### Singular Value Decomposition (SVD)\n",
    "![alt text](https://cdn.mathpix.com/snip/images/JXD8GZE0T-iEvom84u0TFQl4QXzjm6cM2fC0n92kgFk.original.fullsize.png)\n",
    "\n",
    "Chúng ta có thể đơn giản hóa giữ liệu bằng cách lựa chọn giá trị $k$ rank\n",
    "Best rank là có thể được tính bằng xấp xỉ  Frobenius norm và norm 2.\n",
    "\n",
    "Frobenius norm và norm 2 là hai norms được sử dụng nhiều nhất trong ma trận. Như vậy, xét trên cả hai norm này, Truncated SVD đều cho xấp xỉ tốt nhất. Vì vậy Truncated SVD còn được gọi là Best low-rank Approximation.\n",
    "\n"
   ]
  },
  {
   "cell_type": "markdown",
   "metadata": {
    "colab_type": "text",
    "id": "Xc9w3obZjBTW"
   },
   "source": [
    "## Principal Component Analysis\n",
    "\n",
    "Cách đơn giản nhất để giảm chiều dữ liệu từ $D$ về$K<D$ là chỉ giữ lại $K$ phần tử quan trọng nhất. Tuy nhiên, việc làm này chắc chắn chưa phải tốt nhất vì chúng ta chưa biết xác định thành phần nào là quan trọng hơn. Hoặc trong trường hợp xấu nhất, lượng thông tin mà mỗi thành phần mang là như nhau, bỏ đi thành phần nào cũng dẫn đến việc mất một lượng thông tin lớn.\n",
    "\n",
    "Tuy nhiên, nếu chúng ta có thể biểu diễn các vector dữ liệu ban đầu trong một hệ cơ sở mới mà trong hệ cơ sở mới đó, tầm quan trọng giữa các thành phần là khác nhau rõ rệt, thì chúng ta có thể bỏ qua những thành phần ít quan trọng nhất.\n",
    "\n",
    "---\n",
    "\n",
    "**Thuật toán PCA** \n",
    "\n",
    "> ![alt text](https://cdn.mathpix.com/snip/images/aNj8bx_bo8CPSnN5AN3jPHiThzuei2ioOB27eJr6Aqk.original.fullsize.png)"
   ]
  },
  {
   "cell_type": "markdown",
   "metadata": {
    "colab_type": "text",
    "id": "noBJeC_EK5qB"
   },
   "source": [
    "# [5.Tree-Based Model](https://colab.research.google.com/drive/19ciKeLSy6eD1IfNbGKr3AYWscS-Bm8Rl#scrollTo=Y50lpKa9-nLW)\n"
   ]
  },
  {
   "cell_type": "markdown",
   "metadata": {
    "colab_type": "text",
    "id": "qa5U6PpSn2EI"
   },
   "source": [
    "# General Overfitting in ML\n"
   ]
  },
  {
   "cell_type": "code",
   "execution_count": null,
   "metadata": {
    "colab": {},
    "colab_type": "code",
    "id": "6kmw_AwxPUPz"
   },
   "outputs": [],
   "source": []
  },
  {
   "cell_type": "markdown",
   "metadata": {
    "colab_type": "text",
    "id": "IQSvvg90sowf"
   },
   "source": [
    "Overfitting là khi mô hình quá fit với tập train hay chỉ mô tả tốt training set, dẫn đến không có tính tổng quá hóa và dẫn đến predict sai.\n",
    "\n",
    "Training error/ Test error:\n",
    "\n",
    "![alt text](https://cdn.mathpix.com/snip/images/Z3C1amdGFbXC1H-d3OvgS3H8nK-J-2KwvgI11OBrnps.original.fullsize.png)\n",
    "\n",
    "## Validation\n",
    "Trích ra 1 tập validate trên tập train, trước khi test với tập test\n",
    "Dựa vào validation error chúng ta có thể tuning parameter:\n",
    "- model complexity (quardaric regression)\n",
    "- regularization terms (l1 , l2)\n",
    "## Cross-validation\n",
    "Chia ra thành nhiều fold, gọi là k-fold cross-validation\n",
    "Chia training set ra k-fold validation set, chúng ta fit trên từng fold và test trên phần còn lại (k-1 fold). Lặp lại việc fit k lần.\n",
    "Error của mô hình sẽ bằng trung bình cộng của các fold.\n",
    "> Chọn mô hình tốt nhất sẽ là mô hình có error thấp nhất và std nhỏ nhất (thay đổi)\n",
    "\n",
    "### Early stopping\n",
    "Set early stopping sao cho thuật toán sẽ dừng khi training error vẫn có xu hướng giảm nhưng validation error có xu hướng tăng (tránh overfit)"
   ]
  },
  {
   "cell_type": "markdown",
   "metadata": {
    "colab_type": "text",
    "id": "PiD6NVsSrPoA"
   },
   "source": [
    "## Regularization\n",
    "Một cách cơ bản, là thay đổi model đi 1 chút, chấp nhận hy sinh độ chính xác trong training set, nhưng giảm độ phức tạp của model, giúp tránh overfitting trong khi vẫn giữ được tính tổng quát của nó\n",
    "\n",
    "Regularization Algorithms:\n",
    "\n",
    "  - Ridge Regression\n",
    "  - Least Absolute Shrinkage and Selection Operator (LASSO) - $l_1$\n",
    "  - Least-Angle Regression (LARS) - $l_2$\n",
    "  - Elastic Net\n",
    "\n",
    "\n",
    "\n",
    "\n",
    "\n",
    "\n"
   ]
  },
  {
   "cell_type": "markdown",
   "metadata": {
    "colab_type": "text",
    "id": "IYnyNVagDtk8"
   },
   "source": [
    "### Thêm hạng số $l_1$ hoặc $l_2$\n",
    "![alt text](https://cdn.mathpix.com/snip/images/xNlrgE29C5jNwpTeOfYzy2YH7u6E83T2qf6O5jGXntM.original.fullsize.png)"
   ]
  },
  {
   "cell_type": "markdown",
   "metadata": {
    "colab_type": "text",
    "id": "0sT7hcSasnF6"
   },
   "source": []
  },
  {
   "cell_type": "markdown",
   "metadata": {
    "colab_type": "text",
    "id": "6ZzUT29EPji1"
   },
   "source": [
    "\n",
    "\n",
    "\n"
   ]
  },
  {
   "cell_type": "code",
   "execution_count": null,
   "metadata": {
    "colab": {},
    "colab_type": "code",
    "id": "4YT6SeV_4peW"
   },
   "outputs": [],
   "source": []
  }
 ],
 "metadata": {
  "colab": {
   "collapsed_sections": [
    "8FIjZqKbt8P8",
    "dpc1c9ZsP2i6",
    "eX6sM5ldJu0-",
    "bwn5AC4UPgJE",
    "_j1ygYkdutFv",
    "np0HDTN556XV",
    "W8gx540rhd0Q",
    "8rALbRKosxnT",
    "qa5U6PpSn2EI"
   ],
   "name": "2.ML.ipynb",
   "provenance": [],
   "toc_visible": true
  },
  "kernelspec": {
   "display_name": "Python 3",
   "language": "python",
   "name": "python3"
  },
  "language_info": {
   "codemirror_mode": {
    "name": "ipython",
    "version": 3
   },
   "file_extension": ".py",
   "mimetype": "text/x-python",
   "name": "python",
   "nbconvert_exporter": "python",
   "pygments_lexer": "ipython3",
   "version": "3.8.3"
  }
 },
 "nbformat": 4,
 "nbformat_minor": 4
}
